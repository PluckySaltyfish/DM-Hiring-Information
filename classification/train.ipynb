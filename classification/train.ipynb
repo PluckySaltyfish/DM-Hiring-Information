{
 "cells": [
  {
   "cell_type": "code",
   "execution_count": 49,
   "metadata": {},
   "outputs": [],
   "source": [
    "import pandas as pd\n",
    "import os\n",
    "import numpy as np\n",
    "from math import cos, sin, atan2, sqrt, pi, radians, degrees, asin\n",
    "from datetime import datetime\n",
    "from sklearn.preprocessing import MinMaxScaler, LabelEncoder, MultiLabelBinarizer, OneHotEncoder\n",
    "from sklearn.metrics import mean_squared_error, mean_squared_log_error, accuracy_score\n",
    "from sklearn.model_selection import train_test_split"
   ]
  },
  {
   "cell_type": "markdown",
   "metadata": {},
   "source": [
    "- Problem Transformation Methods (转换策略)\n",
    "    - Binary Relevance（二元关联）\n",
    "    - Classifier Chains (分类器链)\n",
    "    - Label Powerset (LP法)\n",
    "- Algorithm Adaptation (算法适应性策略)\n",
    "    - MLKNN\n",
    "- Neural Network"
   ]
  },
  {
   "cell_type": "markdown",
   "metadata": {},
   "source": [
    "### 数据获取"
   ]
  },
  {
   "cell_type": "code",
   "execution_count": 50,
   "metadata": {},
   "outputs": [
    {
     "output_type": "execute_result",
     "data": {
      "text/plain": "Index(['c_name', 'c_nature', 'c_scale', 'w_place', 'w_field', 'w_experience',\n       'education', 's_min', 's_max', 'vacancies'],\n      dtype='object')"
     },
     "metadata": {},
     "execution_count": 50
    }
   ],
   "source": [
    "df = pd.read_csv('../data/info-final.csv')\n",
    "df.columns"
   ]
  },
  {
   "cell_type": "code",
   "execution_count": 51,
   "metadata": {},
   "outputs": [],
   "source": [
    "def sample_data(df_unsampled):\n",
    "    df_other = df_unsampled.drop(df[df['c_nature'] == '民营'].index, axis = 0)\n",
    "    df0 = df_unsampled.groupby(['c_nature','c_scale']).get_group(('民营','20人以下'))\n",
    "    df1 = df_unsampled.groupby(['c_nature','c_scale']).get_group(('民营','20-99人')).sample(n=500)\n",
    "    df2 = df_unsampled.groupby(['c_nature','c_scale']).get_group(('民营','100-499人')).sample(n=500)\n",
    "    df3 = df_unsampled.groupby(['c_nature','c_scale']).get_group(('民营','500-999人')).sample(n=500)\n",
    "    df4 = df_unsampled.groupby(['c_nature','c_scale']).get_group(('民营','1000-9999人')).sample(n=500)\n",
    "    df5 = df_unsampled.groupby(['c_nature','c_scale']).get_group(('民营','10000人以上'))\n",
    "    df_sampled = pd.concat([df_other, df0, df1, df2, df3, df4, df5], axis = 0)\n",
    "    return df_sampled"
   ]
  },
  {
   "cell_type": "code",
   "execution_count": 52,
   "metadata": {},
   "outputs": [],
   "source": [
    "company_info = pd.DataFrame(df, columns = ['c_nature','c_scale'])\n",
    "features = df.drop(['c_name', 'c_nature', 'c_scale', 'w_field', 'vacancies'], axis = 1)"
   ]
  },
  {
   "cell_type": "code",
   "execution_count": 53,
   "metadata": {
    "tags": []
   },
   "outputs": [],
   "source": [
    "features = np.array(pd.get_dummies(features))\n",
    "company_info = np.array(pd.get_dummies(company_info))"
   ]
  },
  {
   "cell_type": "code",
   "execution_count": null,
   "metadata": {},
   "outputs": [],
   "source": [
    "# le = LabelEncoder()\n",
    "# features.w_place = le.fit_transform(features.w_place)\n",
    "# features.w_experience = le.fit_transform(features.w_experience)\n",
    "# features.education = le.fit_transform(features.education)\n",
    "# features.s_min = le.fit_transform(features.s_min)\n",
    "# features.s_max = le.fit_transform(features.s_max)\n",
    "# company_info.c_nature = le.fit_transform(company_info.c_nature)\n",
    "# company_info.c_scale = le.fit_transform(company_info.c_scale)\n",
    "# ohe = OneHotEncoder()\n",
    "# features = ohe.fit_transform(features)\n",
    "# company_info = ohe.fit_transform(company_info)"
   ]
  },
  {
   "cell_type": "code",
   "execution_count": null,
   "metadata": {},
   "outputs": [],
   "source": [
    "# from sklearn.preprocessing import MultiLabelBinarizer\n",
    "# mlb = MultiLabelBinarizer()\n",
    "# features = mlb.fit_transform(features.values)\n",
    "# company_info = mlb.fit_transform(company_info.values)"
   ]
  },
  {
   "cell_type": "code",
   "execution_count": 54,
   "metadata": {},
   "outputs": [],
   "source": [
    "X_train, X_test, y_train, y_test = train_test_split(features, company_info, test_size=0.2, random_state=2)"
   ]
  },
  {
   "cell_type": "markdown",
   "metadata": {},
   "source": [
    "## Problem Transformation Methods (转换策略)\n",
    "### Binary Relevance（二元关联）"
   ]
  },
  {
   "cell_type": "code",
   "execution_count": null,
   "metadata": {},
   "outputs": [],
   "source": [
    "from skmultilearn.problem_transform import BinaryRelevance\n",
    "from sklearn.naive_bayes import GaussianNB\n",
    "from sklearn.svm import SVC\n",
    "from sklearn.ensemble import RandomForestClassifier\n",
    "from sklearn.tree import DecisionTreeClassifier\n",
    "from sklearn import metrics"
   ]
  },
  {
   "cell_type": "code",
   "execution_count": null,
   "metadata": {},
   "outputs": [],
   "source": [
    "# Decision Tree\n",
    "classifier = BinaryRelevance(DecisionTreeClassifier())\n",
    "classifier.fit(X_train, y_train)\n",
    "y_pred = classifier.predict(X_test)\n",
    "\n",
    "accuracy_score(y_test, y_pred)"
   ]
  },
  {
   "cell_type": "code",
   "execution_count": null,
   "metadata": {},
   "outputs": [],
   "source": [
    "# Naive Bayes\n",
    "classifier = BinaryRelevance(GaussianNB())\n",
    "classifier.fit(X_train, y_train)\n",
    "y_pred = classifier.predict(X_test)\n",
    "\n",
    "accuracy_score(y_test, y_pred)"
   ]
  },
  {
   "cell_type": "code",
   "execution_count": null,
   "metadata": {
    "tags": []
   },
   "outputs": [],
   "source": [
    "# SVM\n",
    "classifier = BinaryRelevance(SVC())\n",
    "classifier.fit(X_train, y_train)\n",
    "y_pred = classifier.predict(X_test)\n",
    "\n",
    "accuracy_score(y_test, y_pred)\n",
    "# metrics.f1_score(y_test, y_pred, average=\"micro\")"
   ]
  },
  {
   "cell_type": "code",
   "execution_count": null,
   "metadata": {},
   "outputs": [],
   "source": [
    "# Random Forest Classifier\n",
    "classifier = BinaryRelevance(RandomForestClassifier())\n",
    "classifier.fit(X_train, y_train)\n",
    "y_pred = classifier.predict(X_test)\n",
    "\n",
    "accuracy_score(y_test, y_pred)"
   ]
  },
  {
   "cell_type": "markdown",
   "metadata": {},
   "source": [
    "### Classifier Chains (分类器链)"
   ]
  },
  {
   "cell_type": "code",
   "execution_count": null,
   "metadata": {},
   "outputs": [],
   "source": [
    "from skmultilearn.problem_transform import ClassifierChain"
   ]
  },
  {
   "cell_type": "code",
   "execution_count": null,
   "metadata": {},
   "outputs": [],
   "source": [
    "# Decision Tree\n",
    "classifier = ClassifierChain(DecisionTreeClassifier())\n",
    "classifier.fit(X_train, y_train)\n",
    "y_pred = classifier.predict(X_test)\n",
    "\n",
    "accuracy_score(y_test, y_pred)"
   ]
  },
  {
   "cell_type": "code",
   "execution_count": null,
   "metadata": {},
   "outputs": [],
   "source": [
    "# Naive Bayes\n",
    "classifier = ClassifierChain(GaussianNB())\n",
    "classifier.fit(X_train, y_train)\n",
    "y_pred = classifier.predict(X_test)\n",
    "\n",
    "accuracy_score(y_test, y_pred)"
   ]
  },
  {
   "cell_type": "code",
   "execution_count": null,
   "metadata": {},
   "outputs": [],
   "source": [
    "# SVM\n",
    "classifier = ClassifierChain(SVC())\n",
    "classifier.fit(X_train, y_train)\n",
    "y_pred = classifier.predict(X_test)\n",
    "\n",
    "accuracy_score(y_test, y_pred)"
   ]
  },
  {
   "cell_type": "code",
   "execution_count": null,
   "metadata": {},
   "outputs": [],
   "source": [
    "# Random Forest Classifier\n",
    "classifier = ClassifierChain(RandomForestClassifier())\n",
    "classifier.fit(X_train, y_train)\n",
    "y_pred = classifier.predict(X_test)\n",
    "\n",
    "accuracy_score(y_test, y_pred)"
   ]
  },
  {
   "cell_type": "markdown",
   "metadata": {},
   "source": [
    "### Label Powerset (LP法)"
   ]
  },
  {
   "cell_type": "code",
   "execution_count": null,
   "metadata": {},
   "outputs": [],
   "source": [
    "from skmultilearn.problem_transform import LabelPowerset"
   ]
  },
  {
   "cell_type": "code",
   "execution_count": null,
   "metadata": {},
   "outputs": [],
   "source": [
    "# Decision Tree\n",
    "classifier = LabelPowerset(DecisionTreeClassifier())\n",
    "classifier.fit(X_train, y_train)\n",
    "y_pred = classifier.predict(X_test)\n",
    "\n",
    "accuracy_score(y_test, y_pred)"
   ]
  },
  {
   "cell_type": "code",
   "execution_count": null,
   "metadata": {},
   "outputs": [],
   "source": [
    "# Naive Bayes\n",
    "classifier = LabelPowerset(GaussianNB())\n",
    "classifier.fit(X_train, y_train)\n",
    "y_pred = classifier.predict(X_test)\n",
    "\n",
    "accuracy_score(y_test, y_pred)"
   ]
  },
  {
   "cell_type": "code",
   "execution_count": null,
   "metadata": {},
   "outputs": [],
   "source": [
    "# SVM\n",
    "classifier = LabelPowerset(SVC())\n",
    "classifier.fit(X_train, y_train)\n",
    "y_pred = classifier.predict(X_test)\n",
    "\n",
    "accuracy_score(y_test, y_pred)"
   ]
  },
  {
   "cell_type": "code",
   "execution_count": null,
   "metadata": {},
   "outputs": [],
   "source": [
    "# Random Forest Classifier\n",
    "classifier = LabelPowerset(RandomForestClassifier())\n",
    "classifier.fit(X_train, y_train)\n",
    "y_pred = classifier.predict(X_test)\n",
    "\n",
    "accuracy_score(y_test, y_pred)"
   ]
  },
  {
   "cell_type": "markdown",
   "metadata": {},
   "source": [
    "## Algorithm Adaptation (算法适应性策略)\n",
    "### MLKNN"
   ]
  },
  {
   "cell_type": "code",
   "execution_count": null,
   "metadata": {},
   "outputs": [],
   "source": [
    "from skmultilearn.adapt import MLkNN\n",
    "from sklearn.model_selection import GridSearchCV"
   ]
  },
  {
   "cell_type": "code",
   "execution_count": null,
   "metadata": {},
   "outputs": [],
   "source": [
    "# MLKNN\n",
    "classifier = MLkNN(k=10)\n",
    "classifier.fit(X_train, y_train)\n",
    "y_pred = classifier.predict(X_test)\n",
    "\n",
    "accuracy_score(y_test, y_pred)"
   ]
  },
  {
   "cell_type": "code",
   "execution_count": null,
   "metadata": {},
   "outputs": [],
   "source": [
    "# GridSearchCV\n",
    "parameters = {'k': range(1,10), 's': [0.5, 0.7, 1.0]}\n",
    "score = 'accuracy'\n",
    "\n",
    "clf = GridSearchCV(MLkNN(), parameters, scoring=score)\n",
    "clf.fit(X_train, y_train)\n",
    "print (clf.best_params_, clf.best_score_)\n",
    "y_pred = clf.predict(X_test)\n",
    "\n",
    "accuracy_score(y_test, y_pred)"
   ]
  },
  {
   "cell_type": "markdown",
   "metadata": {},
   "source": [
    "### Neural Network"
   ]
  },
  {
   "cell_type": "code",
   "execution_count": 55,
   "metadata": {},
   "outputs": [],
   "source": [
    "from tensorflow.keras.models import Sequential\n",
    "from tensorflow.keras.layers import Dense, LSTM, BatchNormalization, Activation\n",
    "import tensorflow as tf"
   ]
  },
  {
   "cell_type": "code",
   "execution_count": 56,
   "metadata": {
    "tags": []
   },
   "outputs": [
    {
     "output_type": "stream",
     "name": "stdout",
     "text": "Train on 15886 samples, validate on 3972 samples\nEpoch 1/10\n15886/15886 - 1s - loss: 0.3486 - accuracy: 0.8979 - val_loss: 0.2094 - val_accuracy: 0.9266\nEpoch 2/10\n15886/15886 - 1s - loss: 0.1994 - accuracy: 0.9267 - val_loss: 0.1929 - val_accuracy: 0.9273\nEpoch 3/10\n15886/15886 - 1s - loss: 0.1912 - accuracy: 0.9280 - val_loss: 0.1884 - val_accuracy: 0.9280\nEpoch 4/10\n15886/15886 - 1s - loss: 0.1875 - accuracy: 0.9287 - val_loss: 0.1854 - val_accuracy: 0.9289\nEpoch 5/10\n15886/15886 - 1s - loss: 0.1848 - accuracy: 0.9293 - val_loss: 0.1831 - val_accuracy: 0.9294\nEpoch 6/10\n15886/15886 - 1s - loss: 0.1826 - accuracy: 0.9296 - val_loss: 0.1810 - val_accuracy: 0.9299\nEpoch 7/10\n15886/15886 - 1s - loss: 0.1807 - accuracy: 0.9300 - val_loss: 0.1792 - val_accuracy: 0.9300\nEpoch 8/10\n15886/15886 - 1s - loss: 0.1790 - accuracy: 0.9303 - val_loss: 0.1777 - val_accuracy: 0.9304\nEpoch 9/10\n15886/15886 - 1s - loss: 0.1775 - accuracy: 0.9306 - val_loss: 0.1763 - val_accuracy: 0.9305\nEpoch 10/10\n15886/15886 - 1s - loss: 0.1763 - accuracy: 0.9307 - val_loss: 0.1751 - val_accuracy: 0.9310\n3972/3972 [==============================] - 0s 22us/sample - loss: 0.1751 - accuracy: 0.9310\n"
    },
    {
     "output_type": "execute_result",
     "data": {
      "text/plain": "[0.17510691073545875, 0.93097925]"
     },
     "metadata": {},
     "execution_count": 56
    }
   ],
   "source": [
    "n = X_train.shape[0]\n",
    "dim_no = X_train.shape[1]\n",
    "class_no = y_train.shape[1]\n",
    "# create simple mlp\n",
    "model = Sequential()\n",
    "model.add(Dense(128, activation='relu'))\n",
    "model.add(Dense(64, activation='relu'))\n",
    "model.add(Dense(class_no, activation='sigmoid'))\n",
    "model.compile(loss='binary_crossentropy', optimizer='adagrad', metrics=['accuracy'])\n",
    "# train\n",
    "model.fit(X_train, y_train, epochs=10, verbose=2, validation_data=(X_test,y_test))\n",
    "# evaluation\n",
    "y_pred = model.predict(X_test)\n",
    "model.evaluate(X_test, y_test)"
   ]
  },
  {
   "cell_type": "markdown",
   "metadata": {},
   "source": [
    "## Results\n",
    "- Binary Relevance（二元关联）  \n",
    "DT - 0.35876132930513593  \n",
    "NB - 0.29632426988922456  \n",
    "SVM - 0.32250755287009064  \n",
    "RFC - 0.3703423967774421\n",
    "- Classifier Chains (分类器链)  \n",
    "DT - 0.4521651560926485  \n",
    "NB - 0.3104229607250755  \n",
    "SVM - 0.45845921450151056  \n",
    "RFC - 0.46727089627391744\n",
    "- Label Powerset (LP法)  \n",
    "DT - 0.4770896273917422  \n",
    "NB - 0.3053877139979859  \n",
    "SVM - 0.48464249748237664  \n",
    "RFC - 0.4783484390735146\n",
    "- Algorithm Adaptation (算法适应性策略)  \n",
    "MLKNN - 0.3610271903323263\n",
    "- Neural Networks (神经网络)  \n",
    "MLP - 0.93113035"
   ]
  }
 ],
 "metadata": {
  "language_info": {
   "codemirror_mode": {
    "name": "ipython",
    "version": 3
   },
   "file_extension": ".py",
   "mimetype": "text/x-python",
   "name": "python",
   "nbconvert_exporter": "python",
   "pygments_lexer": "ipython3",
   "version": "3.6.9-final"
  },
  "orig_nbformat": 2,
  "kernelspec": {
   "name": "python3",
   "display_name": "Python 3"
  }
 },
 "nbformat": 4,
 "nbformat_minor": 2
}