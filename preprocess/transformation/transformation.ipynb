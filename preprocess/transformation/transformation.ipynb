{
 "cells": [
  {
   "cell_type": "markdown",
   "metadata": {
    "collapsed": true,
    "pycharm": {
     "name": "#%% md\n"
    }
   },
   "source": [
    "# 数值属性概念分层"
   ]
  },
  {
   "cell_type": "code",
   "execution_count": 1,
   "metadata": {
    "pycharm": {
     "name": "#%%\n"
    }
   },
   "outputs": [],
   "source": [
    "import seaborn as sns\n",
    "import matplotlib.style as style\n",
    "import matplotlib.pyplot as plt\n",
    "import numpy as np\n",
    "import pandas as pd\n",
    "%matplotlib inline"
   ]
  },
  {
   "cell_type": "code",
   "execution_count": 3,
   "metadata": {
    "pycharm": {
     "name": "#%%\n"
    },
    "scrolled": true
   },
   "outputs": [
    {
     "data": {
      "text/html": [
       "<div>\n",
       "<style scoped>\n",
       "    .dataframe tbody tr th:only-of-type {\n",
       "        vertical-align: middle;\n",
       "    }\n",
       "\n",
       "    .dataframe tbody tr th {\n",
       "        vertical-align: top;\n",
       "    }\n",
       "\n",
       "    .dataframe thead th {\n",
       "        text-align: right;\n",
       "    }\n",
       "</style>\n",
       "<table border=\"1\" class=\"dataframe\">\n",
       "  <thead>\n",
       "    <tr style=\"text-align: right;\">\n",
       "      <th></th>\n",
       "      <th>Unnamed: 0</th>\n",
       "      <th>Unnamed: 0.1</th>\n",
       "      <th>Unnamed: 0.1.1</th>\n",
       "      <th>j_name</th>\n",
       "      <th>c_name</th>\n",
       "      <th>c_nature</th>\n",
       "      <th>c_scale</th>\n",
       "      <th>description</th>\n",
       "      <th>w_place</th>\n",
       "      <th>w_field</th>\n",
       "      <th>w_experience</th>\n",
       "      <th>education</th>\n",
       "      <th>s_min</th>\n",
       "      <th>s_max</th>\n",
       "      <th>vacancies</th>\n",
       "      <th>welfare</th>\n",
       "    </tr>\n",
       "  </thead>\n",
       "  <tbody>\n",
       "    <tr>\n",
       "      <th>0</th>\n",
       "      <td>0</td>\n",
       "      <td>0</td>\n",
       "      <td>0</td>\n",
       "      <td>华为海外大数据分析</td>\n",
       "      <td>纳沃克斯(北京)国际咨询有限公司 Networkers International</td>\n",
       "      <td>外商独资</td>\n",
       "      <td>20-99人</td>\n",
       "      <td>岗位职责：1、使用数据统计、挖掘工具，对收集到的运营商数据进行多维度数据，进行整理、分析、建...</td>\n",
       "      <td>其他</td>\n",
       "      <td>通信技术工程师</td>\n",
       "      <td>3-5年</td>\n",
       "      <td>不限</td>\n",
       "      <td>20.0</td>\n",
       "      <td>20.0</td>\n",
       "      <td>1.0</td>\n",
       "      <td>其他</td>\n",
       "    </tr>\n",
       "    <tr>\n",
       "      <th>1</th>\n",
       "      <td>1</td>\n",
       "      <td>1</td>\n",
       "      <td>1</td>\n",
       "      <td>华为海外大数据分析工程师</td>\n",
       "      <td>RIZE World Wide LTD</td>\n",
       "      <td>外商独资</td>\n",
       "      <td>20-99人</td>\n",
       "      <td>海外大数据分析工程师1有微软，IBM，华为，亚马逊，阿里巴巴，腾讯，百度等大型公司工作经验优...</td>\n",
       "      <td>其他</td>\n",
       "      <td>IT技术支持/维护经理</td>\n",
       "      <td>3-5年</td>\n",
       "      <td>本科</td>\n",
       "      <td>50.0</td>\n",
       "      <td>50.0</td>\n",
       "      <td>20.0</td>\n",
       "      <td>五险一金,绩效奖金,年终分红,包住,交通补助,通讯补贴,带薪年假,节日福利</td>\n",
       "    </tr>\n",
       "    <tr>\n",
       "      <th>2</th>\n",
       "      <td>2</td>\n",
       "      <td>2</td>\n",
       "      <td>3</td>\n",
       "      <td>华为海外大数据挖掘</td>\n",
       "      <td>纳沃克斯(北京)国际咨询有限公司 Networkers International</td>\n",
       "      <td>外商独资</td>\n",
       "      <td>20-99人</td>\n",
       "      <td>岗位职责：1、使用数据统计、挖掘工具，对收集到的运营商数据进行多维度数据，进行整理、分析、建...</td>\n",
       "      <td>其他</td>\n",
       "      <td>IT技术支持/维护工程师</td>\n",
       "      <td>5-10年</td>\n",
       "      <td>不限</td>\n",
       "      <td>20.0</td>\n",
       "      <td>20.0</td>\n",
       "      <td>1.0</td>\n",
       "      <td>其他</td>\n",
       "    </tr>\n",
       "    <tr>\n",
       "      <th>3</th>\n",
       "      <td>3</td>\n",
       "      <td>3</td>\n",
       "      <td>5</td>\n",
       "      <td>产品经理(舆情，大数据)-00708</td>\n",
       "      <td>任子行网络技术股份有限公司</td>\n",
       "      <td>上市公司</td>\n",
       "      <td>500-999人</td>\n",
       "      <td>岗位职责1、分析总结市场用户需求，设计产品原型；2、与技术直接对接，跟踪产品开发进度；3、分...</td>\n",
       "      <td>其他</td>\n",
       "      <td>互联网产品经理/主管</td>\n",
       "      <td>3-5年</td>\n",
       "      <td>本科</td>\n",
       "      <td>10.0</td>\n",
       "      <td>10.0</td>\n",
       "      <td>5.0</td>\n",
       "      <td>节日福利,五险一金,绩效奖金,餐补,带薪年假,定期体检</td>\n",
       "    </tr>\n",
       "    <tr>\n",
       "      <th>4</th>\n",
       "      <td>4</td>\n",
       "      <td>4</td>\n",
       "      <td>8</td>\n",
       "      <td>（菲律宾）Java工程师</td>\n",
       "      <td>深圳市兴东企业管理有限公司</td>\n",
       "      <td>民营</td>\n",
       "      <td>10年</td>\n",
       "      <td>1、本科以上学历，计算机相关专业，5年及以上企业级j2ee应用开发经验2、精通Java核心技...</td>\n",
       "      <td>其他</td>\n",
       "      <td>Java开发工程师</td>\n",
       "      <td>5-10年</td>\n",
       "      <td>本科</td>\n",
       "      <td>20.0</td>\n",
       "      <td>20.0</td>\n",
       "      <td>3.0</td>\n",
       "      <td>14薪,周末双休,绩效奖金,加班补助,包住,包吃,带薪年假,节日福利</td>\n",
       "    </tr>\n",
       "  </tbody>\n",
       "</table>\n",
       "</div>"
      ],
      "text/plain": [
       "   Unnamed: 0  Unnamed: 0.1  Unnamed: 0.1.1              j_name  \\\n",
       "0           0             0               0           华为海外大数据分析   \n",
       "1           1             1               1        华为海外大数据分析工程师   \n",
       "2           2             2               3           华为海外大数据挖掘   \n",
       "3           3             3               5  产品经理(舆情，大数据)-00708   \n",
       "4           4             4               8        （菲律宾）Java工程师   \n",
       "\n",
       "                                       c_name c_nature   c_scale  \\\n",
       "0  纳沃克斯(北京)国际咨询有限公司 Networkers International      外商独资    20-99人   \n",
       "1                        RIZE World Wide LTD      外商独资    20-99人   \n",
       "2  纳沃克斯(北京)国际咨询有限公司 Networkers International      外商独资    20-99人   \n",
       "3                              任子行网络技术股份有限公司      上市公司  500-999人   \n",
       "4                              深圳市兴东企业管理有限公司        民营       10年   \n",
       "\n",
       "                                         description w_place       w_field  \\\n",
       "0  岗位职责：1、使用数据统计、挖掘工具，对收集到的运营商数据进行多维度数据，进行整理、分析、建...      其他       通信技术工程师   \n",
       "1  海外大数据分析工程师1有微软，IBM，华为，亚马逊，阿里巴巴，腾讯，百度等大型公司工作经验优...      其他   IT技术支持/维护经理   \n",
       "2  岗位职责：1、使用数据统计、挖掘工具，对收集到的运营商数据进行多维度数据，进行整理、分析、建...      其他  IT技术支持/维护工程师   \n",
       "3  岗位职责1、分析总结市场用户需求，设计产品原型；2、与技术直接对接，跟踪产品开发进度；3、分...      其他    互联网产品经理/主管   \n",
       "4  1、本科以上学历，计算机相关专业，5年及以上企业级j2ee应用开发经验2、精通Java核心技...      其他     Java开发工程师   \n",
       "\n",
       "  w_experience education  s_min  s_max  vacancies  \\\n",
       "0         3-5年        不限   20.0   20.0        1.0   \n",
       "1         3-5年        本科   50.0   50.0       20.0   \n",
       "2        5-10年        不限   20.0   20.0        1.0   \n",
       "3         3-5年        本科   10.0   10.0        5.0   \n",
       "4        5-10年        本科   20.0   20.0        3.0   \n",
       "\n",
       "                                 welfare  \n",
       "0                                     其他  \n",
       "1  五险一金,绩效奖金,年终分红,包住,交通补助,通讯补贴,带薪年假,节日福利  \n",
       "2                                     其他  \n",
       "3            节日福利,五险一金,绩效奖金,餐补,带薪年假,定期体检  \n",
       "4     14薪,周末双休,绩效奖金,加班补助,包住,包吃,带薪年假,节日福利  "
      ]
     },
     "execution_count": 3,
     "metadata": {},
     "output_type": "execute_result"
    }
   ],
   "source": [
    "df = pd.read_csv('../../data/缺失值处理后数据.csv')\n",
    "df.head()"
   ]
  },
  {
   "cell_type": "code",
   "execution_count": 18,
   "metadata": {},
   "outputs": [
    {
     "data": {
      "text/plain": [
       "(0, 16)"
      ]
     },
     "execution_count": 18,
     "metadata": {},
     "output_type": "execute_result"
    }
   ],
   "source": [
    "df[df['s_min']!=df['s_max']].shape"
   ]
  },
  {
   "cell_type": "code",
   "execution_count": 13,
   "metadata": {},
   "outputs": [
    {
     "data": {
      "text/plain": [
       "<matplotlib.axes._subplots.AxesSubplot at 0x1a1d2d7978>"
      ]
     },
     "execution_count": 13,
     "metadata": {},
     "output_type": "execute_result"
    },
    {
     "data": {
      "image/png": "[encoded data removed]",
      "text/plain": [
       "<Figure size 432x288 with 1 Axes>"
      ]
     },
     "metadata": {
      "needs_background": "light"
     },
     "output_type": "display_data"
    }
   ],
   "source": [
    "df['s_min'].value_counts().sort_index().plot.line()"
   ]
  },
  {
   "cell_type": "code",
   "execution_count": 16,
   "metadata": {},
   "outputs": [
    {
     "data": {
      "text/plain": [
       "<matplotlib.axes._subplots.AxesSubplot at 0x1a1d79a438>"
      ]
     },
     "execution_count": 16,
     "metadata": {},
     "output_type": "execute_result"
    },
    {
     "data": {
      "image/png": "[encoded data removed]",
      "text/plain": [
       "<Figure size 432x288 with 1 Axes>"
      ]
     },
     "metadata": {
      "needs_background": "light"
     },
     "output_type": "display_data"
    }
   ],
   "source": [
    "df['s_max'].value_counts().sort_index().plot.line()"
   ]
  }
 ],
 "metadata": {
  "kernelspec": {
   "display_name": "Python 3",
   "language": "python",
   "name": "python3"
  },
  "language_info": {
   "codemirror_mode": {
    "name": "ipython",
    "version": 3
   },
   "file_extension": ".py",
   "mimetype": "text/x-python",
   "name": "python",
   "nbconvert_exporter": "python",
   "pygments_lexer": "ipython3",
   "version": "3.6.9"
  },
  "toc": {
   "base_numbering": 1,
   "nav_menu": {},
   "number_sections": true,
   "sideBar": false,
   "skip_h1_title": true,
   "title_cell": "Table of Contents",
   "title_sidebar": "Contents",
   "toc_cell": false,
   "toc_position": {},
   "toc_section_display": true,
   "toc_window_display": false
  }
 },
 "nbformat": 4,
 "nbformat_minor": 1
}
